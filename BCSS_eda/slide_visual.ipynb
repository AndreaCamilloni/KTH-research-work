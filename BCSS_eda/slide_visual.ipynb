{
 "cells": [
  {
   "cell_type": "code",
   "execution_count": 1,
   "metadata": {},
   "outputs": [],
   "source": [
    "# libraries\n",
    "import pandas as pd\n",
    "import numpy as np\n",
    "import os\n",
    "import matplotlib.pyplot as plt\n",
    "import matplotlib.image as mpimg\n",
    "import cv2\n",
    "import xml.etree.ElementTree as ET\n",
    "\n",
    "from utils import *\n",
    "#from scipy.interpolate import splprep, splev\n",
    "\n",
    "import ipywidgets as widgets\n",
    "from IPython.display import display, clear_output\n"
   ]
  },
  {
   "cell_type": "code",
   "execution_count": 2,
   "metadata": {},
   "outputs": [
    {
     "data": {
      "application/vnd.jupyter.widget-view+json": {
       "model_id": "d97c79b840f5405aac1fdbcb6895c177",
       "version_major": 2,
       "version_minor": 0
      },
      "text/plain": [
       "Select(description='Choose slide:', options=('TCGA-A1-A0SK-DX1_xmin45749_ymin25055_MPP-0.2000', 'TCGA-A1-A0SP-…"
      ]
     },
     "metadata": {},
     "output_type": "display_data"
    }
   ],
   "source": [
    "# path to data\n",
    "datasets_path = \"CrowdsourcingDataset-Amgadetal2019/\"\n",
    "\n",
    "bcss_images = os.listdir(datasets_path + \"/images/\")\n",
    "bcss_masks = os.listdir(datasets_path + \"/masks/\")\n",
    "masks_df = pd.read_table(datasets_path + \"/meta/gtruth_codes.tsv\")\n",
    "\n",
    "# XML\n",
    "xml_path = \"xml_yolov8s_super_iou=0.2_conf=0.1_agnosticNMS_full_size/\"#\"xml_files/\"\n",
    "\n",
    "file_names = [filename.split('.xml')[0] for filename in os.listdir(xml_path) if filename.endswith('.xml')]\n",
    "\n",
    "# Create a Dropdown or Select widget\n",
    "dropdown_menu = widgets.Select(\n",
    "    options=file_names,\n",
    "    description='Choose slide:',\n",
    "    disabled=False,\n",
    "    rows = 10\n",
    ")\n",
    "\n",
    "\n",
    "# Display the widget\n",
    "display(dropdown_menu) "
   ]
  },
  {
   "cell_type": "code",
   "execution_count": 3,
   "metadata": {},
   "outputs": [
    {
     "data": {
      "application/vnd.jupyter.widget-view+json": {
       "model_id": "350cd880cbdb418992036b81f1b4960c",
       "version_major": 2,
       "version_minor": 0
      },
      "text/plain": [
       "HBox(children=(Button(description='Slide', style=ButtonStyle()), Button(description='Mask', style=ButtonStyle(…"
      ]
     },
     "metadata": {},
     "output_type": "display_data"
    },
    {
     "data": {
      "application/vnd.jupyter.widget-view+json": {
       "model_id": "b616634a7abf4a75a5d354ed53bd8f3f",
       "version_major": 2,
       "version_minor": 0
      },
      "text/plain": [
       "Output()"
      ]
     },
     "metadata": {},
     "output_type": "display_data"
    }
   ],
   "source": [
    "bboxes_df = load_xml_to_dataframe(xml_path, dropdown_menu.value)\n",
    "\n",
    "# plot image \n",
    "image_path = datasets_path + \"/images/\" + dropdown_menu.value + \".png\"\n",
    "mask_path = datasets_path + \"/masks/\" + dropdown_menu.value + \".png\"\n",
    "\n",
    "\n",
    "# Button creation\n",
    "button1 = widgets.Button(description=\"Slide\")\n",
    "button2 = widgets.Button(description=\"Mask\")\n",
    "button3 = widgets.Button(description=\"Masked Slide\")\n",
    "button4 = widgets.Button(description=\"Bounding Boxes\")\n",
    "button5 = widgets.Button(description=\"Cell Graph\")\n",
    "button6 = widgets.Button(description=\"Segmented Graph\")\n",
    "\n",
    "# Create an output widget to display plot\n",
    "plot_output = widgets.Output()\n",
    "\n",
    "\n",
    "# Event handlers for each button\n",
    "def on_button1_clicked(b):\n",
    "    #clear_output(wait=True)\n",
    "    img = mpimg.imread(image_path)\n",
    "    display_image(img,plot_output) # Replace with actual image path\n",
    "\n",
    "def on_button2_clicked(b):\n",
    "    #clear_output(wait=True)\n",
    "    img = mpimg.imread(mask_path)\n",
    "    display_image(img,plot_output) # Replace with actual image path\n",
    "\n",
    "def on_button3_clicked(b):\n",
    "    img = apply_colored_mask_on_image(image_path, mask_path, masks_df)\n",
    "    display_image(img,plot_output) # Replace with actual image path\n",
    "\n",
    "def on_button4_clicked(b):\n",
    "    img = draw_bboxes_on_image(image_path, bboxes_df)\n",
    "    display_image(img,plot_output) # Replace with actual image path\n",
    "\n",
    "def on_button5_clicked(b):\n",
    "    img = draw_graph_on_image(image_path, mask_path, bboxes_df, node_color='cell_color', node_size=10, line_thickness=2)\n",
    "    display_image(img,plot_output) # Replace with actual image path\n",
    "\n",
    "\n",
    "def on_button6_clicked(b):\n",
    "    img = draw_graph_on_image(image_path, mask_path, bboxes_df, node_color='mask_color', node_size=10, line_thickness=2)\n",
    "    display_image(img,plot_output) # Replace with actual image path\n",
    "\n",
    "\n",
    "# Linking buttons to their event handlers\n",
    "button1.on_click(on_button1_clicked)\n",
    "button2.on_click(on_button2_clicked)\n",
    "button3.on_click(on_button3_clicked)\n",
    "button4.on_click(on_button4_clicked)\n",
    "button5.on_click(on_button5_clicked)\n",
    "button6.on_click(on_button6_clicked)\n",
    "\n",
    "# Display buttons and output widget\n",
    "button_box = widgets.HBox([button1, button2, button3, button4, button5, button6])\n",
    "display(button_box, plot_output)"
   ]
  },
  {
   "cell_type": "markdown",
   "metadata": {},
   "source": [
    "# OLD STUFF"
   ]
  },
  {
   "cell_type": "code",
   "execution_count": 8,
   "metadata": {},
   "outputs": [
    {
     "data": {
      "text/plain": [
       "'TCGA-E2-A150-DX1_xmin42083_ymin62113_MPP-0.2000'"
      ]
     },
     "execution_count": 8,
     "metadata": {},
     "output_type": "execute_result"
    }
   ],
   "source": [
    "dropdown_menu.value"
   ]
  },
  {
   "cell_type": "code",
   "execution_count": 9,
   "metadata": {},
   "outputs": [],
   "source": [
    "# load graph nodes and edges from file \n",
    "nodes_file = \"output/bcss_delaunay_graph_yolov8s_super_iou=0.2_conf=01_NMS/\" + dropdown_menu.value + \"_nodes.csv\"\n",
    "edges_file = \"output/bcss_delaunay_graph_yolov8s_super_iou=0.2_conf=01_NMS/\" + dropdown_menu.value + \"_edges.csv\"\n",
    "\n",
    "nodes_df = pd.read_csv(nodes_file)\n",
    "edges_df = pd.read_csv(edges_file)\n",
    "\n",
    "\n",
    "G = nx.Graph()\n",
    "\n",
    "for index, row in nodes_df.iterrows():\n",
    "    G.add_node(row['id'], x=row['x'], y=row['y'], label=row['class'], )\n",
    "\n",
    "for index, row in edges_df.iterrows():\n",
    "    G.add_edge(row['source'], row['target'])\n"
   ]
  },
  {
   "cell_type": "code",
   "execution_count": 10,
   "metadata": {},
   "outputs": [
    {
     "data": {
      "text/plain": [
       "(10423, 31246)"
      ]
     },
     "execution_count": 10,
     "metadata": {},
     "output_type": "execute_result"
    }
   ],
   "source": [
    "len(G.nodes), len(G.edges)"
   ]
  },
  {
   "cell_type": "code",
   "execution_count": 11,
   "metadata": {},
   "outputs": [
    {
     "data": {
      "image/png": "[encoded data removed]",
      "text/plain": [
       "<Figure size 640x480 with 1 Axes>"
      ]
     },
     "metadata": {},
     "output_type": "display_data"
    }
   ],
   "source": [
    "# plot statistics node degree\n",
    "degrees = [val for (node, val) in G.degree()]\n",
    "plt.hist(degrees, bins=50)\n",
    "plt.xlabel('Degree')\n",
    "plt.ylabel('Number of nodes')\n",
    "plt.title('Node degree distribution')\n",
    "plt.show()"
   ]
  },
  {
   "cell_type": "code",
   "execution_count": null,
   "metadata": {},
   "outputs": [],
   "source": [
    "np.zeros((len(G.nodes), len(G.nodes))).shape"
   ]
  },
  {
   "cell_type": "code",
   "execution_count": null,
   "metadata": {},
   "outputs": [],
   "source": [
    "8146%2000"
   ]
  },
  {
   "cell_type": "code",
   "execution_count": null,
   "metadata": {},
   "outputs": [],
   "source": [
    "for node in G.nodes():\n",
    "    print(G.nodes[node])\n",
    "    break"
   ]
  },
  {
   "cell_type": "code",
   "execution_count": null,
   "metadata": {},
   "outputs": [],
   "source": [
    "# draw graph\n",
    "image_path = datasets_path + \"/images/\" + dropdown_menu.value + \".png\"\n",
    "img = mpimg.imread(image_path)\n",
    "\n",
    "\n",
    "image = plt.imread(image_path)\n",
    "image = image[:, :, 0:3]\n",
    "\n",
    "dpi = 100\n",
    "height, width, depth = image.shape\n",
    "figsize = width / float(dpi), height / float(dpi)\n",
    "    # Create a figure and axis object\n",
    "fig, ax = plt.subplots( figsize=figsize)\n",
    "ax.imshow(image)\n",
    "\n",
    "# graph\n",
    "x,y = nx.get_node_attributes(G, 'x'), nx.get_node_attributes(G, 'y')\n",
    "pos = {node:(x[node], y[node]) for node in G.nodes()}\n",
    "\n",
    "label = nx.get_node_attributes(G, 'label')\n",
    "#nx.draw(G, pos, with_labels=False, node_size=20, width = 1, node_color=[normalize_tuple(class_colors[G.nodes[node]['mask_value']]) for node in G.nodes], ax=ax)\n",
    "nx.draw(G, pos, with_labels=False, node_size=30, width = 1, ax=ax)\n",
    "\n",
    "plt.show()"
   ]
  },
  {
   "cell_type": "code",
   "execution_count": null,
   "metadata": {},
   "outputs": [],
   "source": [
    "img = cv2.imread(image_path)\n",
    "img = cv2.cvtColor(img, cv2.COLOR_BGR2RGB)\n",
    "mask = cv2.imread(mask_path, 0)\n",
    "\n",
    "# Convert the image to RGBA\n",
    "img_rgba = cv2.cvtColor(img, cv2.COLOR_RGB2RGBA)\n",
    "\n",
    "# Apply the mask to the alpha channel\n",
    "alpha_channel = img_rgba[:, :, 3]\n",
    "unique_values = np.unique(mask)\n",
    "\n",
    "# Apply each colored mask\n",
    "for value, rgba in colors.items():\n",
    "    img = apply_colored_mask(img, mask, value, rgba, masks_df)\n",
    "# plot mask\n",
    "fig = plt.figure(figsize=(10, 10))\n",
    "\n",
    "# Display the result\n",
    "plt.imshow(img)\n",
    "plt.axis('off')\n",
    "plt.show()"
   ]
  },
  {
   "cell_type": "code",
   "execution_count": null,
   "metadata": {},
   "outputs": [],
   "source": [
    "image = draw_bboxes_on_masked_image(img, bboxes_df)\n",
    "\n",
    "plt.figure(figsize=(20,20))\n",
    "plt.imshow(image)\n",
    "plt.show()"
   ]
  },
  {
   "cell_type": "code",
   "execution_count": null,
   "metadata": {},
   "outputs": [],
   "source": [
    "len(os.listdir(datasets_path + \"/images/\"))"
   ]
  },
  {
   "cell_type": "code",
   "execution_count": null,
   "metadata": {},
   "outputs": [],
   "source": [
    "bboxes_df"
   ]
  },
  {
   "cell_type": "code",
   "execution_count": null,
   "metadata": {},
   "outputs": [],
   "source": [
    "node_labels = [row['class'] for index, row in bboxes_df.iterrows()]"
   ]
  },
  {
   "cell_type": "code",
   "execution_count": null,
   "metadata": {},
   "outputs": [],
   "source": [
    "from scipy.spatial import Delaunay\n",
    "import networkx as nx\n",
    "import matplotlib.pyplot as plt\n",
    "\n",
    "node_colors = {0: 'black', 1 : 'blue', 2: 'yellow', 3: 'green', 4: 'red'}\n",
    "\n",
    "node_mask_colors = {\n",
    "    0: (0, 0, 0),             # Black for 'outside_roi'\n",
    "    1: (255, 0, 0),           # Red for 'tumor'\n",
    "    2: (0, 255, 0),           # Green for 'stroma'\n",
    "    3: (0, 0, 255),           # Blue for 'lymphocytic_infiltrate'\n",
    "    4: (255, 255, 0),         # Yellow for 'necrosis_or_debris'\n",
    "    5: (255, 0, 255),         # Magenta for 'glandular_secretions'\n",
    "    6: (0, 255, 255),         # Cyan for 'blood'\n",
    "    7: (192, 192, 192),       # Gray for 'exclude'\n",
    "    8: (128, 0, 0),           # Maroon for 'metaplasia_NOS'\n",
    "    9: (128, 128, 0),         # Olive for 'fat'\n",
    "    10: (0, 128, 0),          # Dark Green for 'plasma_cells'\n",
    "    11: (128, 0, 128),        # Purple for 'other_immune_infiltrate'\n",
    "    12: (0, 128, 128),        # Teal for 'mucoid_material'\n",
    "    13: (0, 0, 128),          # Navy for 'normal_acinus_or_duct'\n",
    "    14: (255, 165, 0),        # Orange for 'lymphatics'\n",
    "    15: (255, 20, 147),       # Deep Pink for 'undetermined'\n",
    "    16: (75, 0, 130),         # Indigo for 'nerve'\n",
    "    17: (173, 216, 230),      # Light Blue for 'skin_adnexa'\n",
    "    18: (240, 128, 128),      # Light Coral for 'blood_vessel'\n",
    "    19: (210, 105, 30),       # Chocolate for 'angioinvasion'\n",
    "    20: (60, 179, 113),       # Medium Sea Green for 'dcis'\n",
    "    21: (255, 228, 225)       # Misty Rose for 'other'\n",
    "}\n",
    "\n",
    "def normalize_tuple(tuple):\n",
    "    return (tuple[0]/255,tuple[1]/255,tuple[2]/255)\n",
    "\n",
    "\n",
    "\n",
    "def generate_graph_from_bboxes(bboxes_df, mask):\n",
    "    # Assuming bboxes_df has columns ['xmin', 'ymin', 'xmax', 'ymax']\n",
    "    # Calculate the center of each bounding box\n",
    "    centers = np.vstack([(bboxes_df['xmin'].astype(int) + bboxes_df['xmax'].astype(int)) / 2, \n",
    "                         (bboxes_df['ymin'].astype(int) + bboxes_df['ymax'].astype(int)) / 2]).T\n",
    "\n",
    "    # Perform Delaunay Triangulation\n",
    "    tri = Delaunay(centers)\n",
    "\n",
    "    # Create a graph from the triangulation\n",
    "    graph = nx.Graph()\n",
    "    \n",
    "\n",
    "    for i, point in enumerate(centers):\n",
    "        mask_value = mask[int(point[1]), int(point[0])]\n",
    "        graph.add_node(i, pos=tuple(int(point[0]), int(point[1])), label=bboxes_df['class'].iloc[i], \n",
    "                       cell_color=node_colors[bboxes_df['class'].iloc[i]], \n",
    "                       mask_value=int(mask_value), mask_color=normalize_tuple(node_mask_colors[int(mask_value)]))\n",
    "\n",
    "    # Add edges from the Delaunay triangulation\n",
    "    for simplex in tri.simplices:\n",
    "        for i in range(len(simplex)):\n",
    "            for j in range(i+1, len(simplex)):\n",
    "                graph.add_edge(simplex[i], simplex[j])\n",
    "\n",
    "    \n",
    "    return graph"
   ]
  },
  {
   "cell_type": "code",
   "execution_count": null,
   "metadata": {},
   "outputs": [],
   "source": [
    "G = generate_graph_from_bboxes(bboxes_df, mask)"
   ]
  },
  {
   "cell_type": "code",
   "execution_count": null,
   "metadata": {},
   "outputs": [],
   "source": [
    "tmp = []\n",
    "\n",
    "for node in G.nodes():\n",
    "    tmp.append(G.nodes[node]['mask_value'])\n",
    "\n",
    "# tmp unique values\n",
    "np.unique(tmp)"
   ]
  },
  {
   "cell_type": "code",
   "execution_count": null,
   "metadata": {},
   "outputs": [],
   "source": [
    "node_mask_colors = {\n",
    "    0: (0, 0, 0),             # Black for 'outside_roi'\n",
    "    1: (255, 0, 0),           # Red for 'tumor'\n",
    "    2: (0, 255, 0),           # Green for 'stroma'\n",
    "    3: (0, 0, 255),           # Blue for 'lymphocytic_infiltrate'\n",
    "    4: (255, 255, 0),         # Yellow for 'necrosis_or_debris'\n",
    "    5: (255, 0, 255),         # Magenta for 'glandular_secretions'\n",
    "    6: (0, 255, 255),         # Cyan for 'blood'\n",
    "    7: (192, 192, 192),       # Gray for 'exclude'\n",
    "    8: (128, 0, 0),           # Maroon for 'metaplasia_NOS'\n",
    "    9: (128, 128, 0),         # Olive for 'fat'\n",
    "    10: (0, 128, 0),          # Dark Green for 'plasma_cells'\n",
    "    11: (128, 0, 128),        # Purple for 'other_immune_infiltrate'\n",
    "    12: (0, 128, 128),        # Teal for 'mucoid_material'\n",
    "    13: (0, 0, 128),          # Navy for 'normal_acinus_or_duct'\n",
    "    14: (255, 165, 0),        # Orange for 'lymphatics'\n",
    "    15: (255, 20, 147),       # Deep Pink for 'undetermined'\n",
    "    16: (75, 0, 130),         # Indigo for 'nerve'\n",
    "    17: (173, 216, 230),      # Light Blue for 'skin_adnexa'\n",
    "    18: (240, 128, 128),      # Light Coral for 'blood_vessel'\n",
    "    19: (210, 105, 30),       # Chocolate for 'angioinvasion'\n",
    "    20: (60, 179, 113),       # Medium Sea Green for 'dcis'\n",
    "    21: (255, 228, 225)       # Misty Rose for 'other'\n",
    "}\n",
    "\n",
    "def normalize_tuple(tuple):\n",
    "    return (tuple[0]/255,tuple[1]/255,tuple[2]/255)\n",
    "\n",
    "\n",
    "# Load the image\n",
    "image = cv2.imread(image_path)\n",
    "\n",
    "image = plt.imread(image_path)\n",
    "image = image[:, :, 0:3]\n",
    "\n",
    "dpi = 100\n",
    "height, width, depth = image.shape\n",
    "figsize = width / float(dpi), height / float(dpi)\n",
    "    # Create a figure and axis object\n",
    "fig, ax = plt.subplots( figsize=figsize)\n",
    "ax.imshow(image)\n",
    "\n",
    "# graph\n",
    "pos = nx.get_node_attributes(G, 'pos')\n",
    "#nx.draw(G, pos, with_labels=False, node_size=30, width = 1, node_color=[normalize_tuple(class_colors[G.nodes[node]['mask_value']]) for node in G.nodes], ax=ax)\n",
    "nx.draw(G, pos, with_labels=False, node_size=20, width = 1, node_color=list(nx.get_node_attributes(G, 'color').values()), ax=ax)\n",
    "\n",
    "plt.show()"
   ]
  },
  {
   "cell_type": "code",
   "execution_count": null,
   "metadata": {},
   "outputs": [],
   "source": [
    "for edge in G.edges():\n",
    "    print(G.nodes[edge[0]]['pos'])\n",
    "    break"
   ]
  },
  {
   "cell_type": "code",
   "execution_count": null,
   "metadata": {},
   "outputs": [],
   "source": [
    "def draw_graph_on_image(image, graph, node_size=30, line_thickness=8):\n",
    "    # Loop through the edges in the graph to draw lines\n",
    "    for edge in graph.edges():\n",
    "        pt1 = (graph.nodes[edge[0]]['pos'][0].astype(int), graph.nodes[edge[0]]['pos'][1].astype(int))\n",
    "        pt2 = (graph.nodes[edge[1]]['pos'][0].astype(int), graph.nodes[edge[1]]['pos'][1].astype(int)) \n",
    "        cv2.line(image, pt1, pt2, (0, 0, 0), thickness=line_thickness)  # Blue color for lines\n",
    "\n",
    "    # Loop through the nodes in the graph to draw circles\n",
    "    for node in graph.nodes():\n",
    "        cv2.circle(image, (int(graph.nodes[node]['pos'][0]),int(graph.nodes[node]['pos'][1])), node_size, graph.nodes[node]['mask_color'], -1)  # Green color for nodes\n",
    "\n",
    "    return image\n",
    "\n",
    "image = draw_graph_on_image(image, G, node_size=5, line_thickness=1)\n",
    "\n",
    "plt.figure(figsize=(20,20))\n",
    "plt.imshow(image)\n",
    "plt.show()\n"
   ]
  },
  {
   "cell_type": "code",
   "execution_count": null,
   "metadata": {},
   "outputs": [],
   "source": [
    "\n",
    "# Load the image\n",
    "image = cv2.imread(image_path)\n",
    "\n",
    "image = plt.imread(image_path)\n",
    "image = image[:, :, 0:3]\n",
    "\n",
    "dpi = 100\n",
    "height, width, depth = image.shape\n",
    "figsize = width / float(dpi), height / float(dpi)\n",
    "    # Create a figure and axis object\n",
    "fig, ax = plt.subplots( figsize=figsize)\n",
    "ax.imshow(image)\n",
    "\n",
    "# graph\n",
    "pos = nx.get_node_attributes(G, 'pos')\n",
    "#nx.draw(G, pos, with_labels=False, node_size=20, width = 1, node_color=[normalize_tuple(class_colors[G.nodes[node]['mask_value']]) for node in G.nodes], ax=ax)\n",
    "nx.draw(G, pos, with_labels=False, node_size=30, width = 1, node_color=list(nx.get_node_attributes(G, 'color').values()), ax=ax)\n",
    "\n",
    "plt.show()"
   ]
  },
  {
   "cell_type": "code",
   "execution_count": null,
   "metadata": {},
   "outputs": [],
   "source": []
  }
 ],
 "metadata": {
  "kernelspec": {
   "display_name": "Python 3",
   "language": "python",
   "name": "python3"
  },
  "language_info": {
   "codemirror_mode": {
    "name": "ipython",
    "version": 3
   },
   "file_extension": ".py",
   "mimetype": "text/x-python",
   "name": "python",
   "nbconvert_exporter": "python",
   "pygments_lexer": "ipython3",
   "version": "3.8.6"
  }
 },
 "nbformat": 4,
 "nbformat_minor": 2
}
